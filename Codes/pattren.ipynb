{
 "cells": [
  {
   "cell_type": "code",
   "execution_count": 1,
   "id": "7e35d3da-a8f1-4329-a9e9-8d8e932a1bf8",
   "metadata": {},
   "outputs": [
    {
     "name": "stdout",
     "output_type": "stream",
     "text": [
      "* * * * * \n",
      "* * * * * \n",
      "* * * * * \n",
      "* * * * * \n",
      "* * * * * \n"
     ]
    }
   ],
   "source": [
    "for i in range(5):\n",
    "    print(5*'* ')"
   ]
  },
  {
   "cell_type": "code",
   "execution_count": 5,
   "id": "0fdeffe5-9a08-455e-a3a9-15f7f0ea0de3",
   "metadata": {},
   "outputs": [
    {
     "name": "stdout",
     "output_type": "stream",
     "text": [
      "* \n",
      "* * \n",
      "* * * \n",
      "* * * * \n",
      "* * * * * \n"
     ]
    }
   ],
   "source": [
    "for i in range(1,6):\n",
    "    print(i*'* ')\n"
   ]
  },
  {
   "cell_type": "code",
   "execution_count": 27,
   "id": "79943da1-363e-4fd9-9c1a-caca7fe236ab",
   "metadata": {},
   "outputs": [
    {
     "name": "stdout",
     "output_type": "stream",
     "text": [
      "    *     \n",
      "   * *    \n",
      "  * * *   \n",
      " * * * *  \n",
      "* * * * * \n",
      " * * * *  \n",
      "  * * *   \n",
      "   * *    \n",
      "    *     \n"
     ]
    }
   ],
   "source": [
    "for i in range(1,10):\n",
    "    if i<=5:\n",
    "        print((5-i)*' '+(i)*'* '+(5-i)*' ')\n",
    "    else:\n",
    "        print((i-5)*' '+(10-i)*'* '+(i-5)*' ')"
   ]
  },
  {
   "cell_type": "code",
   "execution_count": 32,
   "id": "632d4df3-9223-405d-95fd-707c8763d787",
   "metadata": {},
   "outputs": [
    {
     "name": "stdout",
     "output_type": "stream",
     "text": [
      "* * * * * \n",
      "*       * \n",
      "*       * \n",
      "*       * \n",
      "* * * * * \n"
     ]
    }
   ],
   "source": [
    "#Hollow square\n",
    "for i in range(1,6):\n",
    "    if i==1 or i==5:\n",
    "        print(5*'* ')\n",
    "    else:\n",
    "        print('* '+3*'  '+'* ')"
   ]
  },
  {
   "cell_type": "code",
   "execution_count": 33,
   "id": "d98aad6a-2362-4c27-8758-26d08f098c0d",
   "metadata": {},
   "outputs": [
    {
     "name": "stdout",
     "output_type": "stream",
     "text": [
      "* \n",
      "* * \n",
      "* * * \n",
      "* * * * \n",
      "* * * * * \n"
     ]
    }
   ],
   "source": [
    "#solid triangle\n",
    "for i in range(1,6):\n",
    "    print(i*'* ')"
   ]
  },
  {
   "cell_type": "code",
   "execution_count": 36,
   "id": "8c70d0af-fe17-4486-81cf-762ebad43eb6",
   "metadata": {},
   "outputs": [
    {
     "name": "stdout",
     "output_type": "stream",
     "text": [
      "* * * * * \n",
      "* * * * * \n",
      " * * * * * \n",
      "* * * * * \n",
      " * * * * * \n"
     ]
    }
   ],
   "source": [
    "#checkered\n",
    "\n",
    "for i in range(1,6):\n",
    "    if i==2 or i==4:\n",
    "        print(' '+5*'* ')\n",
    "    else:\n",
    "        print(5*'* ')"
   ]
  },
  {
   "cell_type": "code",
   "execution_count": 38,
   "id": "88499146-2285-4bc4-ab3a-0d3d827bc48f",
   "metadata": {},
   "outputs": [
    {
     "name": "stdout",
     "output_type": "stream",
     "text": [
      "* * * * * \n",
      "*       * \n",
      "*       * \n",
      "* * * * * \n",
      "*       * \n",
      "*       * \n",
      "*       * \n"
     ]
    }
   ],
   "source": [
    "#Alphabet 'A'\n",
    "\n",
    "for i in range(1,8):\n",
    "    if i==1 or i==4:\n",
    "        print(5*'* ')\n",
    "    else:\n",
    "        print('* '+3*'  '+'* ')"
   ]
  },
  {
   "cell_type": "code",
   "execution_count": 153,
   "id": "41c4b78c-54d2-473d-bc0a-2f6558d6fa0a",
   "metadata": {},
   "outputs": [
    {
     "name": "stdout",
     "output_type": "stream",
     "text": [
      "    1\n",
      "   121\n",
      "  12321\n",
      " 1234321\n",
      "123454321\n"
     ]
    }
   ],
   "source": [
    "#Number Pyramid\n",
    "n=5\n",
    "j=[]\n",
    "for i in range(1,(n+1)):\n",
    "    if i==1:\n",
    "        j.insert(0,i)\n",
    "        print((n-i)*' '+''.join(map(str, j)))\n",
    "    else: \n",
    "        j.insert(0,i)\n",
    "        h=j.copy()\n",
    "        h.reverse()\n",
    "        h.pop()\n",
    "        lt = h + j\n",
    "        print((n-i)*' '+''.join(map(str, h + j)))\n",
    "        "
   ]
  },
  {
   "cell_type": "code",
   "execution_count": 151,
   "id": "ca0e978b-4d05-4dc9-977a-a3eefcab0b72",
   "metadata": {},
   "outputs": [
    {
     "name": "stdout",
     "output_type": "stream",
     "text": [
      "* * * * * \n",
      "* * * * \n",
      "* * * \n",
      "* * \n",
      "* \n"
     ]
    }
   ],
   "source": [
    "#Inverted Solid Triangle Pattern\n",
    "for i in range(1,6):\n",
    "    print((6-i)*'* ')"
   ]
  },
  {
   "cell_type": "code",
   "execution_count": 187,
   "id": "f14df05a-dd31-491b-940b-e9043db97c2a",
   "metadata": {},
   "outputs": [
    {
     "name": "stdout",
     "output_type": "stream",
     "text": [
      "1\n",
      "1 2\n",
      "1 2 3\n",
      "1 2 3 4\n",
      "1 2 3 4 5\n"
     ]
    }
   ],
   "source": [
    "#Right-Angled Triangle Pattern\n",
    "j=[]\n",
    "for i in range(1,(6)):\n",
    "    j.insert((i-1),i)\n",
    "    print(' '.join(map(str,j)))"
   ]
  },
  {
   "cell_type": "code",
   "execution_count": 164,
   "id": "86db99c6-1e28-4900-98ad-7e0d88a34702",
   "metadata": {},
   "outputs": [
    {
     "name": "stdout",
     "output_type": "stream",
     "text": [
      "    *     \n",
      "   * *    \n",
      "  * * *   \n",
      " * * * *  \n",
      "* * * * * \n",
      " * * * *  \n",
      "  * * *   \n",
      "   * *    \n",
      "    *     \n"
     ]
    }
   ],
   "source": [
    "#Diamond Pattern\n",
    "for i in range(1,10):\n",
    "    if i<=5:\n",
    "        print((5-i)*' '+(i)*'* '+(5-i)*' ')\n",
    "    else:\n",
    "        print((i-5)*' '+(10-i)*'* '+(i-5)*' ')"
   ]
  },
  {
   "cell_type": "code",
   "execution_count": 184,
   "id": "4e715e7d-a38d-4cc8-bffb-56def84dd3d9",
   "metadata": {
    "scrolled": true
   },
   "outputs": [
    {
     "name": "stdout",
     "output_type": "stream",
     "text": [
      "* * * * * \n",
      " * * * *  \n",
      "  * * *   \n",
      "   * *    \n",
      "    *     \n",
      "    *     \n",
      "   * *    \n",
      "  * * *   \n",
      " * * * *  \n",
      "* * * * * \n"
     ]
    }
   ],
   "source": [
    "# Hourglass Pattern\n",
    "for i in range(0,10):\n",
    "    if i>=5:\n",
    "        print((9-i)*' '+(i-4)*'* '+(9-i)*' ')\n",
    "    elif i<5:\n",
    "        print((i)*' '+(5-i)*'* '+(i)*' ')"
   ]
  },
  {
   "cell_type": "code",
   "execution_count": 191,
   "id": "19e87576-65a8-4ea6-bf59-a9160207a667",
   "metadata": {},
   "outputs": [
    {
     "name": "stdout",
     "output_type": "stream",
     "text": [
      "    1\n",
      "   1 2\n",
      "  1 2 3\n",
      " 1 2 3 4\n",
      "1 2 3 4 5\n"
     ]
    }
   ],
   "source": [
    "# Pyramid Pattern\n",
    "j=[]\n",
    "for i in range(1,6):\n",
    "    j.insert((i-1),i)\n",
    "    print((5-i)*' '+' '.join(map(str,j)))"
   ]
  },
  {
   "cell_type": "code",
   "execution_count": 33,
   "id": "48cce666-637c-4ce2-a64f-43eec1e2c69b",
   "metadata": {},
   "outputs": [
    {
     "name": "stdout",
     "output_type": "stream",
     "text": [
      "*       *       *\n",
      " *     *     *\n",
      "  *   *   *\n",
      "   * * *\n",
      "    * *     \n",
      "     *    \n",
      "    * *   \n",
      "   * * *\n",
      "  *   *   *\n",
      " *     *     *\n",
      "*       *       *\n"
     ]
    }
   ],
   "source": [
    "# Zigzag Pattern\n",
    "for i in range(1,12):\n",
    "    if i<=4:\n",
    "        print((i-1)*' '+'*'+ abs(9-2*i)*' '+'*'+  abs(9-2*i)*' '+'*')\n",
    "    elif i>=8:\n",
    "        print((11-i)*' '+'*'+ (2*i-15)*' '+'*'+  abs(15-2*i)*' '+'*')\n",
    "    elif i>=5 and i<=6:\n",
    "        print((i-1)*' '+(7-i)*'* '+(9-i)*' ')\n",
    "    elif i==7:\n",
    "        print((i-3)*' '+(i-5)*'* '+(9-i)*' ')\n"
   ]
  },
  {
   "cell_type": "code",
   "execution_count": 46,
   "id": "46f2bd6a-2ce0-45e6-8288-fef70fc838e9",
   "metadata": {},
   "outputs": [
    {
     "name": "stdout",
     "output_type": "stream",
     "text": [
      "*       *\n",
      " *     *\n",
      "  *   *\n",
      "   * *      \n",
      "    *     \n",
      "   * *    \n",
      "  *   *\n",
      " *     *\n",
      "*       *\n"
     ]
    }
   ],
   "source": [
    "# Cross Pattern\n",
    "for i in range(1,10):\n",
    "    if i<=3:\n",
    "        print((i-1)*' '+'*'+ abs(9-2*i)*' '+'*')\n",
    "    elif i>=7:\n",
    "        print((9-i)*' '+'*'+ (2*i-11)*' '+'*')\n",
    "    elif i>=4 and i<=5:\n",
    "        print((i-1)*' '+(6-i)*'* '+(9-i)*' ')\n",
    "    elif i==6:\n",
    "        print((i-3)*' '+(i-4)*'* '+(9-i)*' ')"
   ]
  },
  {
   "cell_type": "code",
   "execution_count": 64,
   "id": "0d5f1572-b589-419c-827a-b644871a7c11",
   "metadata": {},
   "outputs": [
    {
     "name": "stdout",
     "output_type": "stream",
     "text": [
      "1\n",
      "1 2\n",
      "1   3\n",
      "1     4\n",
      "1 2 3 4 5\n"
     ]
    }
   ],
   "source": [
    "# Triangle Pattern\n",
    "j=[]\n",
    "for i in range(1,6):\n",
    "    j.insert((i-1),i)\n",
    "    if i<=2:\n",
    "        print(' '.join(map(str,j)))\n",
    "    elif i>2 and i<5:\n",
    "        print('1'+(3+2*(i-3))*' '+ str(i))\n",
    "    elif i==5:\n",
    "        print(' '.join(map(str,j)))"
   ]
  },
  {
   "cell_type": "code",
   "execution_count": 66,
   "id": "86cbfd01-f90e-4bd4-9320-01bb198c3643",
   "metadata": {},
   "outputs": [
    {
     "name": "stdout",
     "output_type": "stream",
     "text": [
      "* * * * * \n",
      "*       * \n",
      "*       * \n",
      "* * * * * \n"
     ]
    }
   ],
   "source": [
    "#Hollow rectngle\n",
    "for i in range(1,5):\n",
    "    if i==1 or i==4:\n",
    "        print(5*'* ')\n",
    "    else:\n",
    "        print('* '+3*'  '+'* ')"
   ]
  },
  {
   "cell_type": "code",
   "execution_count": 75,
   "id": "6fcc2b9c-9561-440f-baa4-a345fd8bd60f",
   "metadata": {},
   "outputs": [
    {
     "name": "stdout",
     "output_type": "stream",
     "text": [
      "   * * * * * *    \n",
      "  * * * * * * *   \n",
      " * * * * * * * *  \n",
      "* * * * * * * * * \n",
      " * * * * * * * * \n",
      "  * * * * * * *  \n",
      "   * * * * * *   \n"
     ]
    }
   ],
   "source": [
    "#hexagon Pattern\n",
    "for i in range(1,8):\n",
    "    if i<=4:\n",
    "        print((4-i)*' '+(5+i)*'* '+(4-i)*' ')\n",
    "    else:\n",
    "        print((i-4)*' '+(13-i)*'* '+(i-5)*' ')"
   ]
  },
  {
   "cell_type": "code",
   "execution_count": 84,
   "id": "29416126-ebee-4241-942d-277602931fd9",
   "metadata": {},
   "outputs": [
    {
     "name": "stdout",
     "output_type": "stream",
     "text": [
      "* \n",
      "* * \n",
      "*   *\n",
      "*     *\n",
      "* * * * * \n"
     ]
    }
   ],
   "source": [
    "# Hollow Triangle Pattern\n",
    "for i in range(1,6):\n",
    "    if i<=2:\n",
    "        print(i*'* ')\n",
    "    elif i>2 and i<5:\n",
    "        print('*'+(3+2*(i-3))*' '+ '*')\n",
    "    elif i==5:\n",
    "        print(i*'* ')"
   ]
  },
  {
   "cell_type": "code",
   "execution_count": 90,
   "id": "c9ae3538-edb6-4457-baeb-bc63fa161646",
   "metadata": {},
   "outputs": [
    {
     "name": "stdout",
     "output_type": "stream",
     "text": [
      "   *    \n",
      "  * *   \n",
      " * * *  \n",
      "* * * * \n",
      " * * *   \n",
      "  * *   \n",
      "   *   \n"
     ]
    }
   ],
   "source": [
    "# Solid Diamond Pattern\n",
    "for i in range(1,8):\n",
    "    if i<=4:\n",
    "        print((4-i)*' '+(i)*'* '+(4-i)*' ')\n",
    "    else:\n",
    "        print(abs(i-4)*' '+(8-i)*'* '+abs(6-4)*' ')"
   ]
  },
  {
   "cell_type": "code",
   "execution_count": 91,
   "id": "73ad2afd-17f0-472a-84af-22759242121b",
   "metadata": {},
   "outputs": [
    {
     "name": "stdout",
     "output_type": "stream",
     "text": [
      "*       *\n",
      " *     *\n",
      "  *   *\n",
      "   * *      \n",
      "    *     \n",
      "   * *    \n",
      "  *   *\n",
      " *     *\n",
      "*       *\n"
     ]
    }
   ],
   "source": [
    "# X Pattern\n",
    "for i in range(1,10):\n",
    "    if i<=3:\n",
    "        print((i-1)*' '+'*'+ abs(9-2*i)*' '+'*')\n",
    "    elif i>=7:\n",
    "        print((9-i)*' '+'*'+ (2*i-11)*' '+'*')\n",
    "    elif i>=4 and i<=5:\n",
    "        print((i-1)*' '+(6-i)*'* '+(9-i)*' ')\n",
    "    elif i==6:\n",
    "        print((i-3)*' '+(i-4)*'* '+(9-i)*' ')"
   ]
  },
  {
   "cell_type": "code",
   "execution_count": 92,
   "id": "71fd84c7-9a38-4b10-9ffe-74bdbbef488f",
   "metadata": {},
   "outputs": [
    {
     "name": "stdout",
     "output_type": "stream",
     "text": [
      "I\n",
      "II\n",
      "III\n"
     ]
    }
   ],
   "source": [
    "# Roman Numeral Pattern (I, II, III)\n",
    "for i in range(1,4):\n",
    "    print(i*'I')"
   ]
  },
  {
   "cell_type": "code",
   "execution_count": 1,
   "id": "cfa0e2bf-b12e-4cbb-ad3c-e9fb6a3f5c63",
   "metadata": {},
   "outputs": [
    {
     "name": "stdout",
     "output_type": "stream",
     "text": [
      "* * * * * \n",
      "*     *\n",
      "*   *\n",
      "* *\n",
      "* \n"
     ]
    }
   ],
   "source": [
    "# Hollow Right-Angled Triangle Pattern\n",
    "for i in range(1,6):\n",
    "    if i==1:\n",
    "        print(5*'* ')\n",
    "    elif i>1 and i<5:\n",
    "        print('*'+abs(9-2*i)*' '+ '*')\n",
    "    elif i==5:\n",
    "        print((6-i)*'* ')"
   ]
  },
  {
   "cell_type": "code",
   "execution_count": null,
   "id": "ca9f3f56-e3ce-4990-8147-8f1aaca40c15",
   "metadata": {},
   "outputs": [],
   "source": []
  },
  {
   "cell_type": "code",
   "execution_count": 17,
   "id": "28b25bd2-98ae-4796-a3a5-aba6f3612517",
   "metadata": {},
   "outputs": [
    {
     "name": "stdout",
     "output_type": "stream",
     "text": [
      "A\n",
      "B B\n",
      "C C C\n",
      "D D D D\n",
      "E E E E E\n"
     ]
    }
   ],
   "source": [
    "# Right-Angled Triangle Pattern\n",
    "alp = 'ABCDE'\n",
    "for i in range(1,6):        \n",
    "    j =alp[i-1]\n",
    "    k = i*j.split()\n",
    "    print(' '.join(map(str, k)))\n"
   ]
  },
  {
   "cell_type": "code",
   "execution_count": 58,
   "id": "ff409843-4192-4f0c-94ad-fb7160e7bf76",
   "metadata": {},
   "outputs": [
    {
     "name": "stdout",
     "output_type": "stream",
     "text": [
      "  ***\n",
      " *   *\n",
      "*     *\n",
      "*     *\n",
      " *   *\n",
      "  ***\n"
     ]
    }
   ],
   "source": [
    "# Hollow Circle Pattern\n",
    "for i in range(1,7):\n",
    "    if i==1:\n",
    "        print(2*' '+(3)*'*')\n",
    "    elif i==6:\n",
    "        print(2*' '+(3)*'*')\n",
    "    elif i==3 or i==4:\n",
    "        print((3-i)*' '+'*'+5*' '+'*')\n",
    "    elif i==2 or i==5:\n",
    "        print(1*' '+'*'+3*' '+'*')\n"
   ]
  },
  {
   "cell_type": "code",
   "execution_count": 74,
   "id": "6e5a94af-c8ff-4ff0-97c5-d52f931e4a4d",
   "metadata": {},
   "outputs": [
    {
     "name": "stdout",
     "output_type": "stream",
     "text": [
      "   1\n",
      "  121\n",
      " 12321\n",
      "1234321\n",
      " 12321\n",
      "  121\n",
      "   1\n"
     ]
    }
   ],
   "source": [
    "n=8\n",
    "j=[]\n",
    "for i in range(1,n):\n",
    "    if i==1:\n",
    "        j.insert(0,i)\n",
    "        print((n//2-i)*' '+''.join(map(str, j)))\n",
    "    elif i<=4 : \n",
    "        j.insert(0,i)\n",
    "        h=j.copy()\n",
    "        h.reverse()\n",
    "        h.pop()\n",
    "        lt = h + j\n",
    "        print((n//2-i)*' '+''.join(map(str, lt)))\n",
    "    elif i>4:\n",
    "        lt.remove(lt[len(lt)//2])\n",
    "        lt.remove(lt[len(lt)//2])\n",
    "        print((i-4)*' '+''.join(map(str, lt)))"
   ]
  },
  {
   "cell_type": "code",
   "execution_count": 77,
   "id": "3eff0bb0-ab15-4c93-8725-82af8e0740cf",
   "metadata": {},
   "outputs": [
    {
     "name": "stdout",
     "output_type": "stream",
     "text": [
      "    * * * * * \n",
      "   * * * * * \n",
      "  * * * * * \n",
      " * * * * * \n",
      "* * * * * \n"
     ]
    }
   ],
   "source": [
    "# Parallelogram Pattern\n",
    "for i in range(5):\n",
    "    print((4-i)*' '+5*'* ')"
   ]
  },
  {
   "cell_type": "code",
   "execution_count": 90,
   "id": "413cffde-1a89-4d3e-98cb-aa2efd883aca",
   "metadata": {},
   "outputs": [
    {
     "name": "stdout",
     "output_type": "stream",
     "text": [
      "A\n",
      "B B\n",
      "C   C\n",
      "D     D\n",
      "E E E E E\n"
     ]
    }
   ],
   "source": [
    "# Triangle Pattern (Alphabets)\n",
    "alp = 'ABCDE'\n",
    "for i in range(1,6):\n",
    "    if i<3 or i==5:\n",
    "        j =alp[i-1]\n",
    "        k = i*j.split()\n",
    "        print(' '.join(map(str, k)))\n",
    "    elif i==3:\n",
    "        print(alp[i-1] + 3*' ' +alp[i-1])\n",
    "    elif i==4:\n",
    "        print(alp[i-1] + 5*' ' +alp[i-1])"
   ]
  },
  {
   "cell_type": "code",
   "execution_count": 185,
   "id": "e1d3d42a-47c5-41c1-9e02-a1214a64956c",
   "metadata": {},
   "outputs": [
    {
     "name": "stdout",
     "output_type": "stream",
     "text": [
      "    A\n",
      "   B B\n",
      "  C   C\n",
      " D     D\n",
      "E       E\n",
      " D     D\n",
      "  C   C\n",
      "   B B\n",
      "    A\n"
     ]
    }
   ],
   "source": [
    "# Diamond Pattern (Alphabets)\n",
    "alp = 'ABCDEDCBA'\n",
    "j=5\n",
    "for i in range(10):\n",
    "    if i==0 or i==9:\n",
    "        print((4)*' '+alp[0])\n",
    "    elif i>0 and i<=4:\n",
    "        print((4-i)*' '+alp[i]+((2*i)-1)*' '+alp[i])\n",
    "    elif i>4 and i<8:\n",
    "        print((i-4)*' '+alp[i]+(10-i-(i-j))*' '+alp[i])\n"
   ]
  },
  {
   "cell_type": "code",
   "execution_count": 195,
   "id": "c500bece-68c7-4c73-b2b0-3b8373e71cb8",
   "metadata": {},
   "outputs": [
    {
     "name": "stdout",
     "output_type": "stream",
     "text": [
      "  * * * * * \n",
      " *         *\n",
      "*           *\n",
      "*           *\n",
      " *         *\n",
      "  * * * * * \n"
     ]
    }
   ],
   "source": [
    "# Hollow Hexagon Pattern\n",
    "for i in range(1,7):\n",
    "    if i==1:\n",
    "        print(2*' '+(5)*'* ')\n",
    "    elif i==6:\n",
    "        print(2*' '+(5)*'* ')\n",
    "    elif i==3 or i==4:\n",
    "        print((3-i)*' '+'*'+11*' '+'*')\n",
    "    elif i==2 or i==5:\n",
    "        print(1*' '+'*'+9*' '+'*')"
   ]
  },
  {
   "cell_type": "code",
   "execution_count": 196,
   "id": "430ac278-1140-4f76-9e10-31845eef4ffe",
   "metadata": {},
   "outputs": [
    {
     "name": "stdout",
     "output_type": "stream",
     "text": [
      "* * * * * \n",
      "*     *\n",
      "*   *\n",
      "* *\n",
      "* \n"
     ]
    }
   ],
   "source": [
    "# Hollow Pentagon Pattern\n",
    "for i in range(1,6):\n",
    "    if i==1:\n",
    "        print(5*'* ')\n",
    "    elif i>1 and i<5:\n",
    "        print('*'+abs(9-2*i)*' '+ '*')\n",
    "    elif i==5:\n",
    "        print((6-i)*'* ')"
   ]
  },
  {
   "cell_type": "code",
   "execution_count": 205,
   "id": "b9e265fa-e1c4-4f57-bc85-c4e029403f06",
   "metadata": {},
   "outputs": [
    {
     "name": "stdout",
     "output_type": "stream",
     "text": [
      "     A\n",
      "    A B\n",
      "   A B C\n",
      "  A B C D\n",
      " A B C D E\n"
     ]
    }
   ],
   "source": [
    "# Pyramid Pattern (Alphabets)\n",
    "alp = 'ABCDE'\n",
    "for i in range(5):        \n",
    "    l = ' '.join(map(str, alp[:i+1]))\n",
    "    print((5-i)*' '+l)"
   ]
  },
  {
   "cell_type": "code",
   "execution_count": 221,
   "id": "ad847a6b-58d5-4d85-a408-e53ac5d73b18",
   "metadata": {},
   "outputs": [
    {
     "name": "stdout",
     "output_type": "stream",
     "text": [
      "  ***\n",
      " * * * \n",
      "* * * * \n",
      " * * * \n",
      "  ***\n"
     ]
    }
   ],
   "source": [
    "# Solid Circle Pattern\n",
    "for i in range(1,6):\n",
    "    if i==1 or i==5:\n",
    "        print(2*' '+(3)*'*')\n",
    "    elif i>1 and i<4:\n",
    "        print((3-i)*' '+(i+1)*'* ')\n",
    "    elif i==4:\n",
    "        print(1*' '+(i-1)*'* ')"
   ]
  },
  {
   "cell_type": "code",
   "execution_count": 249,
   "id": "e6e85c7f-9d91-4f4a-93e1-814351f2bf1c",
   "metadata": {},
   "outputs": [
    {
     "name": "stdout",
     "output_type": "stream",
     "text": [
      "*     *\n",
      " *   *\n",
      "  * *\n",
      "   *\n",
      "  * *\n",
      " *   *\n",
      "*     *\n"
     ]
    }
   ],
   "source": [
    "# Star Pattern\n",
    "for i in range(1,8):\n",
    "    if i<=3:\n",
    "        print((i-1)*' '+'*'+ abs(7-2*i)*' '+'*')\n",
    "    elif i==4:\n",
    "        print((7-i)*' '+'*')\n",
    "    elif i>4 and i<=7:\n",
    "        print((7-i)*' '+(1)*'*'+(1+2*(i-5))*' '+'*')"
   ]
  },
  {
   "cell_type": "code",
   "execution_count": 275,
   "id": "efc62d24-3efa-4034-86ca-823a1ff1b5df",
   "metadata": {},
   "outputs": [
    {
     "name": "stdout",
     "output_type": "stream",
     "text": [
      "*                       *\n",
      "*                       *\n",
      "*                       *\n",
      " *                     *\n",
      "  *                   *\n",
      "   *                 *\n",
      "    *               *\n",
      "     *             *\n",
      "      *           *\n",
      "       *         *\n",
      "        *       *\n",
      "         *     *\n",
      "          *   *\n",
      "           * *\n",
      "            *\n"
     ]
    }
   ],
   "source": [
    "for i in range(1,16):\n",
    "    if i>3 and i<15:\n",
    "        print((i-3)*' '+'*'+(15-i)*' '+(14-i)*' '+'*')\n",
    "    elif i==15:\n",
    "        print((12)*' '+'*')\n",
    "    elif i==1 or i==2 or i==3:\n",
    "        print('*' + 23*' '+'*')\n",
    "        "
   ]
  },
  {
   "cell_type": "code",
   "execution_count": 288,
   "id": "a1eda19a-d210-4d53-9e3b-ddbae10b1e96",
   "metadata": {},
   "outputs": [
    {
     "name": "stdout",
     "output_type": "stream",
     "text": [
      "    1 2 3 4 5\n",
      "   1 2 3 4 5 6\n",
      "  1 2 3 4 5 6 7\n",
      " 1 2 3 4 5 6 7 8\n",
      "1 2 3 4 5 6 7 8 9\n",
      " 1 2 3 4 5 6 7 8\n",
      "  1 2 3 4 5 6 7\n",
      "   1 2 3 4 5 6\n",
      "    1 2 3 4 5\n"
     ]
    }
   ],
   "source": [
    "# Solid Hexagon Pattern (Numbers)\n",
    "j=list(range(1,10))\n",
    "for i in range(1,10):\n",
    "    if i<=5:\n",
    "        print((5-i)*' ' +' '.join(map(str, j[:(i+4)])))\n",
    "    else:\n",
    "        print((i-5)*' ' +' '.join(map(str, j[:(14-i)])))\n"
   ]
  },
  {
   "cell_type": "code",
   "execution_count": 338,
   "id": "e5ceeb35-321c-44e3-a636-5ceabcfeb3ad",
   "metadata": {},
   "outputs": [
    {
     "name": "stdout",
     "output_type": "stream",
     "text": [
      "1       13\n",
      " 2     12\n",
      "  3   11\n",
      "   4 10\n",
      "    5\n",
      "   6  9\n",
      "  7    8\n",
      " 8      7\n",
      "9        6\n",
      " 10     5\n",
      "  11   4\n",
      "   12 3\n",
      "    13\n"
     ]
    }
   ],
   "source": [
    "# Zigzag Pattern (Numbers)\n",
    "for i in range(1,14):\n",
    "    if i<5:\n",
    "        print((i-1)*' '+ str(i)+(5-i)*' '+(4-i)*' '+str(14-i))\n",
    "    elif i==5 or i==13:\n",
    "        print(4*' '+str(i))\n",
    "    elif i>5 and i<10:\n",
    "        print(abs(5-abs(i-4))*' '+ str(i)+(i-5)*' '+(i-6)*' '+' '+str(15-i))\n",
    "    elif i>=10 and i<13:\n",
    "        print(abs(5-abs(i-4))*' '+ str(i)+(13-i)*' '+(12-i)*' '+str(15-i))"
   ]
  },
  {
   "cell_type": "code",
   "execution_count": null,
   "id": "c9f0098c-6fbc-48c5-b801-8b43b8504ec7",
   "metadata": {},
   "outputs": [],
   "source": [
    "\n"
   ]
  },
  {
   "cell_type": "code",
   "execution_count": null,
   "id": "01a7b582-a1b7-44c7-8c41-f7d67317ba6e",
   "metadata": {},
   "outputs": [],
   "source": []
  }
 ],
 "metadata": {
  "kernelspec": {
   "display_name": "Python 3 (ipykernel)",
   "language": "python",
   "name": "python3"
  },
  "language_info": {
   "codemirror_mode": {
    "name": "ipython",
    "version": 3
   },
   "file_extension": ".py",
   "mimetype": "text/x-python",
   "name": "python",
   "nbconvert_exporter": "python",
   "pygments_lexer": "ipython3",
   "version": "3.11.6"
  }
 },
 "nbformat": 4,
 "nbformat_minor": 5
}
